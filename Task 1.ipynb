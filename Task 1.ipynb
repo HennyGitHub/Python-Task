{
 "cells": [
  {
   "cell_type": "markdown",
   "id": "e46144bc-f306-466f-9a60-58827439eab9",
   "metadata": {},
   "source": [
    "# Data Science Tools and Ecosystem"
   ]
  },
  {
   "cell_type": "markdown",
   "id": "9b1ee6e6-a291-45b2-9906-441a11ff6fdc",
   "metadata": {},
   "source": [
    "## In this notebook, Data Science Tools and Ecosystem are summarized"
   ]
  },
  {
   "cell_type": "markdown",
   "id": "60175ecf-7798-49d8-870e-4903387ea85d",
   "metadata": {},
   "source": [
    "### Some of the popular languages that Data Scientists use are:"
   ]
  },
  {
   "cell_type": "markdown",
   "id": "ec31832d-bf25-4e25-a3bf-474bdaf19f8a",
   "metadata": {},
   "source": [
    "- Python\n",
    "- Julia\n",
    "- R"
   ]
  },
  {
   "cell_type": "markdown",
   "id": "e2f3af2f-fa44-41ed-97f3-e24bd00d3c61",
   "metadata": {},
   "source": [
    "### Some of the commonly used libraries used by Data Scientists include:"
   ]
  },
  {
   "cell_type": "markdown",
   "id": "3177c7d2-ab2a-4623-a7c7-55475daa6fd4",
   "metadata": {},
   "source": [
    "- Numpy\n",
    "- Pandas\n",
    "- Plotly"
   ]
  },
  {
   "cell_type": "markdown",
   "id": "ad40aeb2-d508-4b51-9e00-3f83272c48ac",
   "metadata": {},
   "source": [
    "|    Data Science Tools    |\n",
    "| -------------------------|\n",
    "| a. Jupyter Noteboook     |\n",
    "| b. Python                | \n",
    "| c. Tableau               |"
   ]
  },
  {
   "cell_type": "markdown",
   "id": "3806963c-a41a-4c80-aee6-b75c278aea75",
   "metadata": {},
   "source": [
    "### Below are a few examples of evaluating arithmetic expressions in Python"
   ]
  },
  {
   "cell_type": "code",
   "execution_count": 3,
   "id": "b5c61981-6e53-4ed4-aafc-f43edf86ca49",
   "metadata": {},
   "outputs": [
    {
     "data": {
      "text/plain": [
       "17"
      ]
     },
     "execution_count": 3,
     "metadata": {},
     "output_type": "execute_result"
    }
   ],
   "source": [
    "#  This a simple arithmetic expression to mutiply then add integers\n",
    "(3*4)+5"
   ]
  },
  {
   "cell_type": "code",
   "execution_count": 20,
   "id": "71d40c11-6b76-4399-aab1-15e5f06970a9",
   "metadata": {},
   "outputs": [
    {
     "name": "stdin",
     "output_type": "stream",
     "text": [
      "Enter the value of minutes 200\n"
     ]
    },
    {
     "name": "stdout",
     "output_type": "stream",
     "text": [
      "There are 3.3333333333333335 hours\n"
     ]
    }
   ],
   "source": [
    "# This will convert 200 minutes to hours by diving by 60\n",
    "def conversion(minutes): \n",
    "    hours=minutes/60\n",
    "    print(\"There are\",hours,\"hours\");\n",
    "\n",
    "minutes=float(input('Enter the value of minutes'))\n",
    "conversion(minutes); "
   ]
  },
  {
   "cell_type": "markdown",
   "id": "c251d75b-08c5-4a16-98d1-da939ea5da64",
   "metadata": {},
   "source": [
    "## Objectives:\n",
    "- List popular languages for Data Science.\n",
    "- Create interactive notebook documents that can contain live code, equations, visualizations, media and other computational outputs.\n",
    "- Often used by programmers, data scientists and students to document and demonstrate coding workflows or simply experiment with code."
   ]
  },
  {
   "cell_type": "markdown",
   "id": "c8e42f3f-8298-4e43-87af-fd636faf4ffa",
   "metadata": {},
   "source": [
    "-"
   ]
  }
 ],
 "metadata": {
  "kernelspec": {
   "display_name": "Python 3 (ipykernel)",
   "language": "python",
   "name": "python3"
  },
  "language_info": {
   "codemirror_mode": {
    "name": "ipython",
    "version": 3
   },
   "file_extension": ".py",
   "mimetype": "text/x-python",
   "name": "python",
   "nbconvert_exporter": "python",
   "pygments_lexer": "ipython3",
   "version": "3.11.2"
  }
 },
 "nbformat": 4,
 "nbformat_minor": 5
}
